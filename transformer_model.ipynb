{
  "nbformat": 4,
  "nbformat_minor": 0,
  "metadata": {
    "colab": {
      "provenance": [],
      "include_colab_link": true
    },
    "kernelspec": {
      "name": "python3",
      "display_name": "Python 3"
    },
    "language_info": {
      "name": "python"
    }
  },
  "cells": [
    {
      "cell_type": "markdown",
      "metadata": {
        "id": "view-in-github",
        "colab_type": "text"
      },
      "source": [
        "<a href=\"https://colab.research.google.com/github/kla55/transformer/blob/main/transformer_model.ipynb\" target=\"_parent\"><img src=\"https://colab.research.google.com/assets/colab-badge.svg\" alt=\"Open In Colab\"/></a>"
      ]
    },
    {
      "cell_type": "markdown",
      "source": [],
      "metadata": {
        "id": "PcQkM8AMZU3Y"
      }
    },
    {
      "cell_type": "code",
      "execution_count": null,
      "metadata": {
        "id": "FtGJMT3CZEg3"
      },
      "outputs": [],
      "source": [
        "import torch\n",
        "import torch.nn as nn\n",
        "import math"
      ]
    },
    {
      "cell_type": "code",
      "source": [
        "class InputEmbeddings(nn.Module):\n",
        "    def __init__(self, d_model: int, vocab_size: int): # constructor - needs dimensions and vocab size\n",
        "        super().__init__()\n",
        "        self.d_model = d_model\n",
        "        self.vocab_size = vocab_size\n",
        "        self.embedding = nn.Embedding(vocab_size, d_model) # mapping between numbers and vector size - 512\n",
        "\n",
        "    def forward(self, x):\n",
        "        return self.embedding(x) * math.sqrt(self.d_model) # sqrt"
      ],
      "metadata": {
        "id": "rJ5-04bLZaVg"
      },
      "execution_count": null,
      "outputs": []
    },
    {
      "cell_type": "code",
      "source": [
        "# Example usage\n",
        "d_model = 512\n",
        "vocab_size = 10000\n",
        "input_embeddings = InputEmbeddings(d_model=d_model, vocab_size=vocab_size)\n",
        "\n",
        "# Sample input: batch of sequences with token IDs\n",
        "sample_input = torch.randint(0, vocab_size, (4, 10))  # Batch of 4 sequences, each with 10 tokens\n",
        "embedded_output = input_embeddings(sample_input)\n",
        "\n",
        "print(\"Input shape:\", sample_input.shape)  # (batch_size, sequence_length)\n",
        "print(\"Output shape:\", embedded_output.shape)  # (batch_size, sequence_length, d_model)"
      ],
      "metadata": {
        "colab": {
          "base_uri": "https://localhost:8080/"
        },
        "id": "wLeAeUIDcoCj",
        "outputId": "543c3744-5acc-4bff-dcc3-c249fbead369"
      },
      "execution_count": null,
      "outputs": [
        {
          "output_type": "stream",
          "name": "stdout",
          "text": [
            "Input shape: torch.Size([4, 10])\n",
            "Output shape: torch.Size([4, 10, 512])\n"
          ]
        }
      ]
    },
    {
      "cell_type": "code",
      "source": [
        "class PositionalEncoding(nn.Module):\n",
        "    def __init__(self, d_model: int, seq_len: int, dropout: float):\n",
        "        super().__init__()\n",
        "        self.d_model = d_model\n",
        "        self.seq_len = seq_len\n",
        "        self.dropout = nn.Dropout(dropout)\n",
        "\n",
        "        # create an array\n",
        "        pe = torch.zeros(seq_len, d_model)\n",
        "        print(pe.shape)\n",
        "        # create a position tensor\n",
        "        # - Adds an additional dimension to the tensor at index 1, converting the 1D tensor into a 2D tensor - (seq_len, 1)\n",
        "        position = torch.arange(0, seq_len, dtype=torch.float).unsqueeze(1)\n",
        "        print(position.shape)\n",
        "        div_term = torch.exp(torch.arange(0, d_model, 2).float() * (-math.log(10000.0) / d_model))\n",
        "        print(div_term.shape)\n",
        "        # apply the sin to even positions and cos to odd positions\n",
        "        # pe[all vocab, starting at position 0/1 and for every 2]\n",
        "        pe[:, 0::2] = torch.sin(position * div_term)\n",
        "        pe[:, 1::2] = torch.cos(position * div_term)\n",
        "\n",
        "        pe = pe.unsqueeze(0) # (seq_len, d_model) -> (1, seq_len, d_model)\n",
        "        # A buffer is a persistent tensor in the model that is not considered a learnable parameter (i.e., it won't be updated during backpropagation).\n",
        "        self.register_buffer('pe', pe)\n",
        "\n",
        "    def forward(self, x):\n",
        "        # to add this positional encoding to every word inside the sentence\n",
        "        # extracts the part of the positional encoding needed for the current input and locks it so it won't change during training\n",
        "        # :x.size(1): Selects elements up to the length of the sequence dimension of x. This means that the operation is selecting a subset of self.pe that matches the sequence length of the input tensor x.\n",
        "        x = x + (self.pe[:, :x.size(1), :]).requires_grad_(False)\n",
        "        return self.dropout(x)\n"
      ],
      "metadata": {
        "id": "IGmmxMf2at5Z"
      },
      "execution_count": null,
      "outputs": []
    },
    {
      "cell_type": "code",
      "source": [
        "# Example usage\n",
        "d_model = 512\n",
        "seq_len = 10\n",
        "dropout = 0.1\n",
        "pos_encoding = PositionalEncoding(d_model=d_model, seq_len=seq_len, dropout=dropout)\n",
        "\n",
        "# Sample input: batch of embeddings\n",
        "batch_size = 4\n",
        "sample_embeddings = torch.randn(batch_size, seq_len, d_model)  # Random embeddings for a batch of 4 sequences\n",
        "\n",
        "# Apply positional encoding\n",
        "encoded_output = pos_encoding(sample_embeddings)\n",
        "\n",
        "print(\"Input shape:\", sample_embeddings.shape)  # (batch_size, seq_len, d_model)\n",
        "print(\"Output shape:\", encoded_output.shape)     # (batch_size, seq_len, d_model)"
      ],
      "metadata": {
        "colab": {
          "base_uri": "https://localhost:8080/"
        },
        "id": "HNDvThqTfKO6",
        "outputId": "07fac9ac-b5ad-4723-af09-9fdb016410c7"
      },
      "execution_count": null,
      "outputs": [
        {
          "output_type": "stream",
          "name": "stdout",
          "text": [
            "torch.Size([10, 512])\n",
            "torch.Size([10, 1])\n",
            "torch.Size([256])\n",
            "Input shape: torch.Size([4, 10, 512])\n",
            "Output shape: torch.Size([4, 10, 512])\n"
          ]
        }
      ]
    },
    {
      "cell_type": "code",
      "source": [
        "class LayerNormalization(nn.Module):\n",
        "  \"\"\"\n",
        "  Layer normalization is a technique used in neural networks to stabilize and accelerate the training process.\n",
        "  It normalizes the inputs across the features of each layer, which helps in making the model more robust and easier to train.\n",
        "\n",
        "  In layer normalization, the mean and variance are computed for each individual sample across all the features (or neurons) within a layer.\n",
        "  The input to a particular layer is normalized by subtracting the mean and dividing by the standard deviation calculated over the features of that input. This results in inputs that have a mean of 0 and a standard deviation of 1.\n",
        "  After normalization, the output is typically scaled and shifted using learnable parameters (gamma and beta) so that the network can still represent a wide range of inputs if needed.\n",
        "  Need Epislon for stability - if sigma is close to 0 then the mew value becomes big - so we do not want big or small values\n",
        "  \"\"\"\n",
        "  def __init__(self, eps: float = 10**6):\n",
        "    super().__init__()\n",
        "    self.eps = eps\n",
        "    self.alpha = nn.Parameter(torch.ones(1)) # multiplier\n",
        "    self.beta = nn.Parameter(torch.zeros(1)) # additive\n",
        "\n",
        "  def forward(self, x):\n",
        "    mean = x.mean(-1, keepdim=True)\n",
        "    std = x.std(-1, keepdim=True)\n",
        "    return self.alpha * (x - mean) / (std + self.eps)"
      ],
      "metadata": {
        "id": "bSpVIuoXXHfE"
      },
      "execution_count": null,
      "outputs": []
    },
    {
      "cell_type": "code",
      "source": [
        "# Example usage\n",
        "layer_norm = LayerNormalization(eps=1e-6)\n",
        "\n",
        "# Create a batch of input data\n",
        "input_data = torch.randn(4, 6)  # Batch of 4 samples, each with 6 features\n",
        "\n",
        "# Apply layer normalization\n",
        "normalized_output = layer_norm(input_data)\n",
        "\n",
        "print(\"Input data:\\n\", input_data)\n",
        "print(\"\\nNormalized output:\\n\", normalized_output)\n",
        "print(\"\\nOutput mean (per sample):\", normalized_output.mean(-1))  # Should be close to 0\n",
        "print(\"Output std (per sample):\", normalized_output.std(-1))    # Should be close to 1"
      ],
      "metadata": {
        "colab": {
          "base_uri": "https://localhost:8080/"
        },
        "id": "T_zIZN40jj71",
        "outputId": "92c840ab-6443-4f44-f971-8fe6caeaa37c"
      },
      "execution_count": null,
      "outputs": [
        {
          "output_type": "stream",
          "name": "stdout",
          "text": [
            "Input data:\n",
            " tensor([[ 0.5284,  0.9566,  0.8103, -1.0130, -0.7687,  0.7030],\n",
            "        [-0.2002,  1.8372,  0.5685, -0.1221, -0.4801, -0.3229],\n",
            "        [-0.3319,  0.5025, -0.0474,  0.1014, -1.5115,  0.3305],\n",
            "        [ 1.8902,  0.5262,  0.6130,  0.6275,  1.0407, -1.2920]])\n",
            "\n",
            "Normalized output:\n",
            " tensor([[ 0.3778,  0.8745,  0.7048, -1.4103, -1.1270,  0.5802],\n",
            "        [-0.4735,  1.8590,  0.4065, -0.3841, -0.7940, -0.6139],\n",
            "        [-0.2384,  0.9149,  0.1548,  0.3605, -1.8691,  0.6773],\n",
            "        [ 1.2681, -0.0397,  0.0436,  0.0575,  0.4536, -1.7830]],\n",
            "       grad_fn=<DivBackward0>)\n",
            "\n",
            "Output mean (per sample): tensor([-1.9868e-08,  0.0000e+00, -1.4901e-08,  3.9736e-08],\n",
            "       grad_fn=<MeanBackward1>)\n",
            "Output std (per sample): tensor([1.0000, 1.0000, 1.0000, 1.0000], grad_fn=<StdBackward0>)\n"
          ]
        }
      ]
    },
    {
      "cell_type": "code",
      "source": [
        "class Feedforwardblock(nn.Module):\n",
        "\n",
        "  def __init__(self, d_model: int, d_ff: int, dropout: float):\n",
        "    super().__init__()\n",
        "    self.linear_1 = nn.Linear(d_model, d_ff)\n",
        "    self.dropout = nn.Dropout(dropout)\n",
        "    self.linear_2 = nn.Linear(d_ff, d_model)\n",
        "\n",
        "  def forward(self, x):\n",
        "    # (Batch, Sequence, d_model) -> (Batch, Sequence, dff) -> (Batch, Sequence, d_model)\n",
        "    return self.linear_2(self.dropout(torch.relu(self.linear_1(x))))"
      ],
      "metadata": {
        "id": "XUkrHMoMbZcE"
      },
      "execution_count": null,
      "outputs": []
    },
    {
      "cell_type": "code",
      "source": [
        "d_model = 512\n",
        "d_ff = 2048\n",
        "dropout = 0.1\n",
        "ff_block = Feedforwardblock(d_model=d_model, d_ff=d_ff, dropout=dropout)\n",
        "\n",
        "# Input data: batch of 4 sequences, each with 10 tokens and an embedding dimension of 512\n",
        "input_data = torch.randn(4, 10, d_model)\n",
        "\n",
        "# Pass through the feedforward block\n",
        "output_data = ff_block(input_data)\n",
        "\n",
        "print(\"Input shape:\", input_data.shape)  # (Batch, Sequence, d_model)\n",
        "print(\"Output shape:\", output_data.shape)  # Should also be (Batch, Sequence, d_model)"
      ],
      "metadata": {
        "colab": {
          "base_uri": "https://localhost:8080/"
        },
        "id": "2E5F3rvV1_QL",
        "outputId": "c3f8a177-50a3-4a1d-9a04-53341794c79b"
      },
      "execution_count": null,
      "outputs": [
        {
          "output_type": "stream",
          "name": "stdout",
          "text": [
            "Input shape: torch.Size([4, 10, 512])\n",
            "Output shape: torch.Size([4, 10, 512])\n"
          ]
        }
      ]
    },
    {
      "cell_type": "code",
      "source": [
        "class MultiHeadAttentionBlock(nn.Module):\n",
        "\n",
        "  def __init__(self, d_model: int, h: int, dropout: float):\n",
        "    super().__init__()\n",
        "    self.d_model = d_model\n",
        "    self.h = h\n",
        "    assert d_model % h == 0, \"d_model is not divisible by h\"\n",
        "\n",
        "    self.d_k = d_model // h\n",
        "    self.w_q = nn.Linear(d_model, d_model)\n",
        "    self.w_k = nn.Linear(d_model, d_model)\n",
        "    self.w_v = nn.Linear(d_model, d_model)\n",
        "\n",
        "    self.w_o = nn.Linear(d_model, d_model)\n",
        "    self.dropout = nn.Dropout(dropout)\n",
        "\n",
        "  @staticmethod\n",
        "  def attention(query, key, value, mask, dropout: nn.Dropout):\n",
        "    d_k = query.shape[-1]\n",
        "    attention_scores = (query @ key.transpose(-2, -1)) / math.sqrt(d_k)\n",
        "    if mask is not None:\n",
        "      attention_scores.masked_fill_(mask == 0, -1e9)\n",
        "    if dropout is not None:\n",
        "      attention_scores = dropout(torch.softmax(attention_scores, dim=-1))\n",
        "    return (attention_scores @ value), attention_scores\n",
        "\n",
        "  def forward(self, q, k, v, mask=None):\n",
        "    # q = [batch size, query len, hid dim]\n",
        "    # k = [batch size, key len, hid dim]\n",
        "    # v = [batch size, value len, hid dim]\n",
        "    query = self.w_q(q)\n",
        "    key = self.w_k(k)\n",
        "    value = self.w_v(v)\n",
        "\n",
        "    query = query.view(query.shape[0], query.shape[1], self.h, self.d_k).transpose(1,2) #.permute(0, 2, 1, 3)\n",
        "    key = key.view(key.shape[0], key.shape[1], self.h, self.d_k).transpose(1,2)\n",
        "    value = value.view(value.shape[0], value.shape[1], self.h, self.d_k).transpose(1,2)\n",
        "\n",
        "    x, self.attention_scores = MultiHeadAttentionBlock.attention(query, key, value, mask, self.dropout)\n",
        "    x = x.transpose(1, 2).contiguous().view(x.shape[0], -1, self.h * self.d_k)\n",
        "    x = self.w_o(x)\n",
        "    return x\n"
      ],
      "metadata": {
        "id": "grdHQVW7jyaV"
      },
      "execution_count": null,
      "outputs": []
    },
    {
      "cell_type": "code",
      "source": [
        "d_model = 512\n",
        "h = 8\n",
        "dropout = 0.1\n",
        "mha_block = MultiHeadAttentionBlock(d_model=d_model, h=h, dropout=dropout)\n",
        "\n",
        "# Define input tensors for a batch of sequences\n",
        "batch_size = 4\n",
        "sequence_length = 10\n",
        "q = torch.randn(batch_size, sequence_length, d_model)\n",
        "k = torch.randn(batch_size, sequence_length, d_model)\n",
        "v = torch.randn(batch_size, sequence_length, d_model)\n",
        "mask = None  # Example without mask\n",
        "\n",
        "# Pass through the multi-head attention block\n",
        "output = mha_block(q, k, v, mask)\n",
        "\n",
        "print(\"Output shape:\", output.shape)  # (Batch, Sequence, d_model)"
      ],
      "metadata": {
        "id": "wlCkhu3u3uWV",
        "outputId": "791a5d4a-35ad-4532-8cc2-a8487b8f0965",
        "colab": {
          "base_uri": "https://localhost:8080/"
        }
      },
      "execution_count": null,
      "outputs": [
        {
          "output_type": "stream",
          "name": "stdout",
          "text": [
            "Output shape: torch.Size([4, 10, 512])\n"
          ]
        }
      ]
    },
    {
      "cell_type": "code",
      "source": [
        "class ResidualConnection(nn.Module):\n",
        "  def __init__(self, dropout: float):\n",
        "    super().__init__()\n",
        "    self.dropout = nn.Dropout(dropout)\n",
        "    self.norm = LayerNormalization()\n",
        "\n",
        "  def forward(self, x, sublayer):\n",
        "    return x + self.dropout(sublayer(self.norm(x))) # residual connection"
      ],
      "metadata": {
        "id": "A_NNizN6x-8M"
      },
      "execution_count": null,
      "outputs": []
    },
    {
      "cell_type": "code",
      "source": [
        "class FeedForwardLayer(nn.Module):\n",
        "    def __init__(self, d_model, d_ff):\n",
        "        super().__init__()\n",
        "        self.linear1 = nn.Linear(d_model, d_ff)\n",
        "        self.relu = nn.ReLU()\n",
        "        self.linear2 = nn.Linear(d_ff, d_model)\n",
        "\n",
        "    def forward(self, x):\n",
        "        return self.linear2(self.relu(self.linear1(x)))"
      ],
      "metadata": {
        "id": "v3p_oykaUeDC"
      },
      "execution_count": null,
      "outputs": []
    },
    {
      "cell_type": "code",
      "source": [
        "# Input dimensions\n",
        "batch_size = 2\n",
        "seq_len = 5\n",
        "d_model = 10\n",
        "d_ff = 20\n",
        "\n",
        "# Instantiate modules\n",
        "dropout_rate = 0.1\n",
        "residual_connection = ResidualConnection(dropout=dropout_rate)\n",
        "feedforward = FeedForwardLayer(d_model=d_model, d_ff=d_ff)\n",
        "# Create a sample input\n",
        "x = torch.rand(batch_size, seq_len, d_model)\n",
        "# Apply ResidualConnection with the FeedForwardLayer as the sublayer\n",
        "output = residual_connection(x, feedforward)\n",
        "\n",
        "print(\"Input Shape:\", x.shape)\n",
        "print(\"Output Shape:\", output.shape)"
      ],
      "metadata": {
        "colab": {
          "base_uri": "https://localhost:8080/"
        },
        "id": "ytHNoGGYTycg",
        "outputId": "c2b7305f-eb9a-46ea-c4de-88dd114fcd46"
      },
      "execution_count": null,
      "outputs": [
        {
          "output_type": "stream",
          "name": "stdout",
          "text": [
            "Input Shape: torch.Size([2, 5, 10])\n",
            "Output Shape: torch.Size([2, 5, 10])\n"
          ]
        }
      ]
    },
    {
      "cell_type": "code",
      "source": [
        "class EncoderBlock(nn.Module):\n",
        "  def __init__(self, self_attention_block: MultiHeadAttentionBlock, feed_forward_block: Feedforwardblock, dropout: float):\n",
        "    super().__init__()\n",
        "    self.self_attention_block = self_attention_block\n",
        "    self.feed_forward_block = feed_forward_block\n",
        "    self.residual_connections = nn.ModuleList([ResidualConnection(dropout) for _ in range(2)])\n",
        "\n",
        "  def forward(self, x, src_mask):\n",
        "    x = self.residual_connections[0](x, lambda x: self.self_attention_block(x, x, x, src_mask))\n",
        "    x = self.residual_connections[1](x, self.feed_forward_block)\n",
        "    return x\n"
      ],
      "metadata": {
        "id": "kns6E0Mzy-nE"
      },
      "execution_count": null,
      "outputs": []
    },
    {
      "cell_type": "code",
      "source": [
        "# Input parameters\n",
        "d_model = 64\n",
        "num_heads = 8\n",
        "d_ff = 256\n",
        "dropout = 0.1\n",
        "\n",
        "# Instantiate components\n",
        "self_attention_block = MultiHeadAttentionBlock(d_model, num_heads, dropout)\n",
        "feed_forward_block = Feedforwardblock(d_model, d_ff, dropout)\n",
        "encoder_block = EncoderBlock(self_attention_block, feed_forward_block, dropout)\n",
        "\n",
        "# Example input\n",
        "batch_size = 2\n",
        "seq_len = 10\n",
        "x = torch.rand(seq_len, batch_size, d_model)  # Transformer input is (seq_len, batch_size, d_model)\n",
        "src_mask = None  # Example without masking\n",
        "\n",
        "# Forward pass\n",
        "output = encoder_block(x, src_mask)\n",
        "print(\"Input Shape:\", x.shape)\n",
        "print(\"Output Shape:\", output.shape)"
      ],
      "metadata": {
        "colab": {
          "base_uri": "https://localhost:8080/"
        },
        "id": "ilx3yIhtBM1E",
        "outputId": "e90ab2e1-89ef-4b51-895d-494267cfd05f"
      },
      "execution_count": null,
      "outputs": [
        {
          "output_type": "stream",
          "name": "stdout",
          "text": [
            "Input Shape: torch.Size([10, 2, 64])\n",
            "Output Shape: torch.Size([10, 2, 64])\n"
          ]
        }
      ]
    },
    {
      "cell_type": "code",
      "source": [
        "class Encoder(nn.Module):\n",
        "  def __init__(self, layers: nn.ModuleList):\n",
        "    super().__init__()\n",
        "    self.layers = layers\n",
        "    self.norm = LayerNormalization()\n",
        "\n",
        "  def forward(self, x, mask):\n",
        "    for layer in self.layers:\n",
        "      x = layer(x, mask)\n",
        "    return self.norm(x)"
      ],
      "metadata": {
        "id": "pdAz2SsC4Lgq"
      },
      "execution_count": null,
      "outputs": []
    },
    {
      "cell_type": "code",
      "source": [],
      "metadata": {
        "id": "36B2s1qonxUY"
      },
      "execution_count": null,
      "outputs": []
    },
    {
      "cell_type": "code",
      "source": [
        "# Example configuration\n",
        "features = 64\n",
        "num_layers = 6\n",
        "dropout = 0.1\n",
        "self_attention_block = MultiHeadAttentionBlock(d_model, num_heads, dropout)\n",
        "feed_forward_block = Feedforwardblock(d_model, d_ff, dropout)\n",
        "\n",
        "# Create multiple EncoderBlocks\n",
        "encoder_layers = nn.ModuleList([\n",
        "    EncoderBlock(self_attention_block, feed_forward_block, dropout) for _ in range(num_layers)\n",
        "])\n",
        "\n",
        "# Instantiate the Encoder\n",
        "encoder = Encoder(layers=encoder_layers)\n",
        "\n",
        "# Input tensor (sequence length, batch size, feature size)\n",
        "seq_len = 10\n",
        "batch_size = 2\n",
        "x = torch.rand(seq_len, batch_size, features)\n",
        "mask = None  # Example without masking\n",
        "\n",
        "# Forward pass\n",
        "output = encoder(x, mask)\n",
        "\n",
        "print(\"Input Shape:\", x.shape)\n",
        "print(\"Output Shape:\", output.shape)"
      ],
      "metadata": {
        "id": "j0Avhi4g4WYb",
        "colab": {
          "base_uri": "https://localhost:8080/"
        },
        "outputId": "f5d6712e-797d-42bd-a451-720c6b5fef7b"
      },
      "execution_count": null,
      "outputs": [
        {
          "output_type": "stream",
          "name": "stdout",
          "text": [
            "Input Shape: torch.Size([10, 2, 64])\n",
            "Output Shape: torch.Size([10, 2, 64])\n"
          ]
        }
      ]
    },
    {
      "cell_type": "code",
      "source": [
        "class DecoderBlock(nn.Module):\n",
        "\n",
        "    def __init__(self, features: int, self_attention_block: MultiHeadAttentionBlock, cross_attention_block: MultiHeadAttentionBlock, feed_forward_block: FeedForwardBlock, dropout: float) -> None:\n",
        "        super().__init__()\n",
        "        self.self_attention_block = self_attention_block\n",
        "        self.cross_attention_block = cross_attention_block\n",
        "        self.feed_forward_block = feed_forward_block\n",
        "        self.residual_connections = nn.ModuleList([ResidualConnection(features, dropout) for _ in range(3)])\n",
        "\n",
        "    def forward(self, x, encoder_output, src_mask, tgt_mask):\n",
        "        x = self.residual_connections[0](x, lambda x: self.self_attention_block(x, x, x, tgt_mask))\n",
        "        x = self.residual_connections[1](x, lambda x: self.cross_attention_block(x, encoder_output, encoder_output, src_mask))\n",
        "        x = self.residual_connections[2](x, self.feed_forward_block)\n",
        "        return x"
      ],
      "metadata": {
        "id": "cEf8wqpiREs2"
      },
      "execution_count": null,
      "outputs": []
    }
  ]
}